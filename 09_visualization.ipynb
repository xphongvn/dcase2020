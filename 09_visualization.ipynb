{
 "cells": [
  {
   "cell_type": "code",
   "execution_count": 25,
   "metadata": {
    "collapsed": true
   },
   "outputs": [],
   "source": [
    "import pandas as pd\n",
    "import matplotlib.pyplot as plt"
   ]
  },
  {
   "cell_type": "code",
   "execution_count": 26,
   "outputs": [],
   "source": [
    "def read_file(file_name):\n",
    "    all_df = {}\n",
    "    all_average = {}\n",
    "    with open(file_name) as f:\n",
    "        for i in range(6):\n",
    "            name = f.readline().strip()\n",
    "            column_name_string = f.readline()\n",
    "            column_names = column_name_string.strip().split(\",\")\n",
    "            check = True\n",
    "            result={}\n",
    "            for cl_name in column_names:\n",
    "                result[cl_name] = []\n",
    "\n",
    "            while check:\n",
    "                line = f.readline()\n",
    "                line_value = line.strip().split(\",\")\n",
    "                if line_value[0] == \"Average\":\n",
    "                    average_auc = float(line_value[1])\n",
    "                    average_pauc = float(line_value[2])\n",
    "                elif line==\"\\n\":\n",
    "                    break\n",
    "                else:\n",
    "                    for i, cl_name in enumerate(column_names):\n",
    "                        result[cl_name].append(float(line_value[i]))\n",
    "\n",
    "            all_df[name] = pd.DataFrame(result)\n",
    "            all_average[name] = {\"average_auc\":average_auc, \"average_pauc\":average_pauc}\n",
    "    return all_df, all_average"
   ],
   "metadata": {
    "collapsed": false,
    "pycharm": {
     "name": "#%%\n"
    }
   }
  },
  {
   "cell_type": "code",
   "execution_count": 27,
   "outputs": [],
   "source": [
    "baseline_file = \"./result/result_tf/result_tf.csv\"\n",
    "baseline_dfs, baseline_avgs = read_file(baseline_file)\n",
    "\n",
    "check_file = \"./result/result_tf/result_tf.csv\"\n",
    "check_dfs, check_avgs = read_file(check_file)"
   ],
   "metadata": {
    "collapsed": false,
    "pycharm": {
     "name": "#%%\n"
    }
   }
  },
  {
   "cell_type": "code",
   "execution_count": 28,
   "outputs": [
    {
     "data": {
      "text/plain": "             ToyCar  ToyConveyor       fan      pump    slider     valve\nbaseline   0.777086      0.72465  0.655985  0.727541  0.844937  0.654717\nour_model  0.777086      0.72465  0.655985  0.727541  0.844937  0.654717",
      "text/html": "<div>\n<style scoped>\n    .dataframe tbody tr th:only-of-type {\n        vertical-align: middle;\n    }\n\n    .dataframe tbody tr th {\n        vertical-align: top;\n    }\n\n    .dataframe thead th {\n        text-align: right;\n    }\n</style>\n<table border=\"1\" class=\"dataframe\">\n  <thead>\n    <tr style=\"text-align: right;\">\n      <th></th>\n      <th>ToyCar</th>\n      <th>ToyConveyor</th>\n      <th>fan</th>\n      <th>pump</th>\n      <th>slider</th>\n      <th>valve</th>\n    </tr>\n  </thead>\n  <tbody>\n    <tr>\n      <th>baseline</th>\n      <td>0.777086</td>\n      <td>0.72465</td>\n      <td>0.655985</td>\n      <td>0.727541</td>\n      <td>0.844937</td>\n      <td>0.654717</td>\n    </tr>\n    <tr>\n      <th>our_model</th>\n      <td>0.777086</td>\n      <td>0.72465</td>\n      <td>0.655985</td>\n      <td>0.727541</td>\n      <td>0.844937</td>\n      <td>0.654717</td>\n    </tr>\n  </tbody>\n</table>\n</div>"
     },
     "execution_count": 28,
     "metadata": {},
     "output_type": "execute_result"
    }
   ],
   "source": [
    "baseline_auc = [item[\"average_auc\"] for item in baseline_avgs.values()]\n",
    "check_auc = [item[\"average_auc\"] for item in check_avgs.values()]\n",
    "label = [item for item in baseline_avgs.keys()]\n",
    "df = {}\n",
    "for i, value in enumerate(label):\n",
    "    df[value] = [baseline_auc[i], check_auc[i]]\n",
    "\n",
    "df = pd.DataFrame(df, index=[\"baseline\",\"our_model\"])\n",
    "df"
   ],
   "metadata": {
    "collapsed": false,
    "pycharm": {
     "name": "#%%\n"
    }
   }
  },
  {
   "cell_type": "code",
   "execution_count": 29,
   "outputs": [
    {
     "data": {
      "text/plain": "<matplotlib.axes._subplots.AxesSubplot at 0x7fba1a19d5c0>"
     },
     "execution_count": 29,
     "metadata": {},
     "output_type": "execute_result"
    },
    {
     "data": {
      "text/plain": "<Figure size 432x288 with 1 Axes>",
      "image/png": "[encoded data removed]"
     },
     "metadata": {
      "needs_background": "light"
     },
     "output_type": "display_data"
    }
   ],
   "source": [
    "df.T.plot.bar()"
   ],
   "metadata": {
    "collapsed": false,
    "pycharm": {
     "name": "#%%\n"
    }
   }
  },
  {
   "cell_type": "code",
   "execution_count": null,
   "outputs": [],
   "source": [
    "\n"
   ],
   "metadata": {
    "collapsed": false,
    "pycharm": {
     "name": "#%%\n"
    }
   }
  }
 ],
 "metadata": {
  "kernelspec": {
   "display_name": "Python 3",
   "language": "python",
   "name": "python3"
  },
  "language_info": {
   "codemirror_mode": {
    "name": "ipython",
    "version": 2
   },
   "file_extension": ".py",
   "mimetype": "text/x-python",
   "name": "python",
   "nbconvert_exporter": "python",
   "pygments_lexer": "ipython2",
   "version": "2.7.6"
  }
 },
 "nbformat": 4,
 "nbformat_minor": 0
}